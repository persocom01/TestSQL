{
 "cells": [
  {
   "cell_type": "code",
   "execution_count": 1,
   "metadata": {},
   "outputs": [],
   "source": [
    "# Install a pip package in the current Jupyter kernel\n",
    "import mariadb as mdb\n",
    "import json\n",
    "import pandas as pd\n",
    "import glob\n",
    "import os\n",
    "from math import ceil\n",
    "import pleiades as ple"
   ]
  },
  {
   "cell_type": "code",
   "execution_count": 2,
   "metadata": {},
   "outputs": [],
   "source": [
    "server_config = {\n",
    "    'user': 'root',\n",
    "    # 'password': '1234',\n",
    "    'host': '127.0.0.1',\n",
    "    'port': 3306,\n",
    "    # 'database': 'testDB',\n",
    "    # Unknown how to set local_infile.\n",
    "    # 'local_infile': True\n",
    "}"
   ]
  },
  {
   "cell_type": "code",
   "execution_count": 3,
   "metadata": {},
   "outputs": [],
   "source": [
    "#creating coursor object\n",
    "db = mdb.connect(**server_config)\n",
    "cursor = db.cursor()"
   ]
  },
  {
   "cell_type": "code",
   "execution_count": 4,
   "metadata": {},
   "outputs": [],
   "source": [
    "dbname = 'testDB'\n",
    "command = f'USE {dbname};'\n",
    "try:\n",
    "    cursor.execute(command)\n",
    "except mdb.ProgrammingError:\n",
    "    print('database does not exist')"
   ]
  },
  {
   "cell_type": "code",
   "execution_count": 13,
   "metadata": {},
   "outputs": [
    {
     "data": {
      "text/html": [
       "<div>\n",
       "<style scoped>\n",
       "    .dataframe tbody tr th:only-of-type {\n",
       "        vertical-align: middle;\n",
       "    }\n",
       "\n",
       "    .dataframe tbody tr th {\n",
       "        vertical-align: top;\n",
       "    }\n",
       "\n",
       "    .dataframe thead th {\n",
       "        text-align: right;\n",
       "    }\n",
       "</style>\n",
       "<table border=\"1\" class=\"dataframe\">\n",
       "  <thead>\n",
       "    <tr style=\"text-align: right;\">\n",
       "      <th></th>\n",
       "      <th>id</th>\n",
       "      <th>name</th>\n",
       "      <th>class</th>\n",
       "      <th>race</th>\n",
       "      <th>male</th>\n",
       "      <th>age</th>\n",
       "    </tr>\n",
       "  </thead>\n",
       "  <tbody>\n",
       "    <tr>\n",
       "      <th>0</th>\n",
       "      <td>1</td>\n",
       "      <td>Kazuma</td>\n",
       "      <td>adventurer</td>\n",
       "      <td>human</td>\n",
       "      <td>True</td>\n",
       "      <td>17</td>\n",
       "    </tr>\n",
       "    <tr>\n",
       "      <th>1</th>\n",
       "      <td>2</td>\n",
       "      <td>Aqua</td>\n",
       "      <td>priest</td>\n",
       "      <td>god</td>\n",
       "      <td>False</td>\n",
       "      <td>999</td>\n",
       "    </tr>\n",
       "    <tr>\n",
       "      <th>2</th>\n",
       "      <td>3</td>\n",
       "      <td>Megumin</td>\n",
       "      <td>crusader</td>\n",
       "      <td>human</td>\n",
       "      <td>False</td>\n",
       "      <td>14</td>\n",
       "    </tr>\n",
       "    <tr>\n",
       "      <th>3</th>\n",
       "      <td>4</td>\n",
       "      <td>Darkness</td>\n",
       "      <td>wizard</td>\n",
       "      <td>human</td>\n",
       "      <td>False</td>\n",
       "      <td>19</td>\n",
       "    </tr>\n",
       "    <tr>\n",
       "      <th>4</th>\n",
       "      <td>5</td>\n",
       "      <td>Chris</td>\n",
       "      <td>thief</td>\n",
       "      <td>human</td>\n",
       "      <td>False</td>\n",
       "      <td>15</td>\n",
       "    </tr>\n",
       "    <tr>\n",
       "      <th>5</th>\n",
       "      <td>6</td>\n",
       "      <td>Yunyun</td>\n",
       "      <td>wizard</td>\n",
       "      <td>human</td>\n",
       "      <td>False</td>\n",
       "      <td>14</td>\n",
       "    </tr>\n",
       "    <tr>\n",
       "      <th>6</th>\n",
       "      <td>7</td>\n",
       "      <td>Wiz</td>\n",
       "      <td>wizard</td>\n",
       "      <td>lich</td>\n",
       "      <td>False</td>\n",
       "      <td>20</td>\n",
       "    </tr>\n",
       "    <tr>\n",
       "      <th>7</th>\n",
       "      <td>8</td>\n",
       "      <td>Kyouya</td>\n",
       "      <td>swordmaster</td>\n",
       "      <td>human</td>\n",
       "      <td>True</td>\n",
       "      <td>20</td>\n",
       "    </tr>\n",
       "  </tbody>\n",
       "</table>\n",
       "</div>"
      ],
      "text/plain": [
       "   id      name        class   race   male  age\n",
       "0   1    Kazuma   adventurer  human   True   17\n",
       "1   2      Aqua       priest    god  False  999\n",
       "2   3   Megumin     crusader  human  False   14\n",
       "3   4  Darkness       wizard  human  False   19\n",
       "4   5     Chris        thief  human  False   15\n",
       "5   6    Yunyun       wizard  human  False   14\n",
       "6   7       Wiz       wizard   lich  False   20\n",
       "7   8    Kyouya  swordmaster  human   True   20"
      ]
     },
     "execution_count": 13,
     "metadata": {},
     "output_type": "execute_result"
    }
   ],
   "source": [
    "df = pd.read_csv('../data/konosuba.csv')\n",
    "df"
   ]
  },
  {
   "cell_type": "code",
   "execution_count": 5,
   "metadata": {},
   "outputs": [],
   "source": [
    "cz = ple.CZ(cursor)"
   ]
  },
  {
   "cell_type": "code",
   "execution_count": 8,
   "metadata": {},
   "outputs": [
    {
     "name": "stdout",
     "output_type": "stream",
     "text": [
      "CREATE TABLE konosuba(\n",
      "id INT,\n",
      "name VARCHAR(50),\n",
      "class VARCHAR(50),\n",
      "race VARCHAR(50),\n",
      "male BOOLEAN,\n",
      "age INT,\n",
      "PRIMARY KEY (id)\n",
      ");\n"
     ]
    }
   ],
   "source": [
    "print(cz.table_from_csv('../data/konosuba.csv', 'id', print_only=True))"
   ]
  },
  {
   "cell_type": "code",
   "execution_count": 9,
   "metadata": {},
   "outputs": [
    {
     "data": {
      "text/plain": [
       "'table konosuba created.'"
      ]
     },
     "execution_count": 9,
     "metadata": {},
     "output_type": "execute_result"
    }
   ],
   "source": [
    "cz.table_from_csv('../data/konosuba.csv', 'id')"
   ]
  },
  {
   "cell_type": "code",
   "execution_count": 10,
   "metadata": {},
   "outputs": [],
   "source": [
    "cursor.execute('DESC konosuba')"
   ]
  },
  {
   "cell_type": "code",
   "execution_count": 11,
   "metadata": {},
   "outputs": [
    {
     "data": {
      "text/plain": [
       "[('id', 'int(11)', 'NO', 'PRI', None, ''),\n",
       " ('name', 'varchar(50)', 'YES', '', None, ''),\n",
       " ('class', 'varchar(50)', 'YES', '', None, ''),\n",
       " ('race', 'varchar(50)', 'YES', '', None, ''),\n",
       " ('male', 'tinyint(1)', 'YES', '', None, ''),\n",
       " ('age', 'int(11)', 'YES', '', None, '')]"
      ]
     },
     "execution_count": 11,
     "metadata": {},
     "output_type": "execute_result"
    }
   ],
   "source": [
    "cursor.fetchall()"
   ]
  },
  {
   "cell_type": "code",
   "execution_count": null,
   "metadata": {},
   "outputs": [],
   "source": []
  },
  {
   "cell_type": "code",
   "execution_count": null,
   "metadata": {},
   "outputs": [],
   "source": []
  },
  {
   "cell_type": "code",
   "execution_count": null,
   "metadata": {},
   "outputs": [],
   "source": []
  },
  {
   "cell_type": "code",
   "execution_count": null,
   "metadata": {},
   "outputs": [],
   "source": []
  },
  {
   "cell_type": "code",
   "execution_count": null,
   "metadata": {},
   "outputs": [],
   "source": []
  },
  {
   "cell_type": "code",
   "execution_count": null,
   "metadata": {},
   "outputs": [],
   "source": []
  },
  {
   "cell_type": "code",
   "execution_count": null,
   "metadata": {},
   "outputs": [],
   "source": []
  },
  {
   "cell_type": "code",
   "execution_count": null,
   "metadata": {},
   "outputs": [],
   "source": []
  },
  {
   "cell_type": "code",
   "execution_count": 78,
   "metadata": {},
   "outputs": [],
   "source": [
    "cursor.execute(\"\"\"CREATE TABLE passengers(\n",
    "id SERIAL PRIMARY KEY,\n",
    "sex BOOLEAN\n",
    ");\"\"\")"
   ]
  },
  {
   "cell_type": "code",
   "execution_count": 79,
   "metadata": {},
   "outputs": [],
   "source": [
    "cursor.execute(\"\"\"INSERT INTO passengers (ID,SEX)\n",
    "VALUES (1, 'True');\n",
    "\"\"\")"
   ]
  },
  {
   "cell_type": "code",
   "execution_count": 80,
   "metadata": {},
   "outputs": [],
   "source": [
    "cursor.execute(\"\"\"SELECT id,sex\n",
    "FROM passengers\n",
    "\"\"\")"
   ]
  },
  {
   "cell_type": "code",
   "execution_count": 81,
   "metadata": {},
   "outputs": [
    {
     "data": {
      "text/plain": [
       "[(1, 0)]"
      ]
     },
     "execution_count": 81,
     "metadata": {},
     "output_type": "execute_result"
    }
   ],
   "source": [
    "cursor.fetchall()"
   ]
  },
  {
   "cell_type": "code",
   "execution_count": 64,
   "metadata": {},
   "outputs": [],
   "source": [
    "command = \"\"\"LOAD DATA LOCAL INFILE 'source.csv' INTO target_db.target_table FIELDS TERMINATED BY ',' ENCLOSED BY '\"' LINES TERMINATED BY '\\r\\n'\"\"\""
   ]
  },
  {
   "cell_type": "code",
   "execution_count": 58,
   "metadata": {},
   "outputs": [],
   "source": [
    "command = command + repr(\"\\r\\n'\")"
   ]
  },
  {
   "cell_type": "code",
   "execution_count": 65,
   "metadata": {},
   "outputs": [
    {
     "name": "stdout",
     "output_type": "stream",
     "text": [
      "LOAD DATA LOCAL INFILE 'source.csv' INTO target_db.target_table FIELDS TERMINATED BY ',' ENCLOSED BY '\"' LINES TERMINATED BY '\r\n",
      "'\n"
     ]
    }
   ],
   "source": [
    "print(command)"
   ]
  },
  {
   "cell_type": "code",
   "execution_count": 66,
   "metadata": {},
   "outputs": [
    {
     "ename": "ProgrammingError",
     "evalue": "You have an error in your SQL syntax; check the manual that corresponds to your MariaDB server version for the right syntax to use near 'target_db.target_table FIELDS TERMINATED BY ',' ENCLOSED BY '\"' LINES TERMINATED' at line 1",
     "output_type": "error",
     "traceback": [
      "\u001b[1;31m---------------------------------------------------------------------------\u001b[0m",
      "\u001b[1;31mProgrammingError\u001b[0m                          Traceback (most recent call last)",
      "\u001b[1;32m<ipython-input-66-31a416c28c4e>\u001b[0m in \u001b[0;36m<module>\u001b[1;34m\u001b[0m\n\u001b[1;32m----> 1\u001b[1;33m \u001b[0mcursor\u001b[0m\u001b[1;33m.\u001b[0m\u001b[0mexecute\u001b[0m\u001b[1;33m(\u001b[0m\u001b[0mcommand\u001b[0m\u001b[1;33m)\u001b[0m\u001b[1;33m\u001b[0m\u001b[1;33m\u001b[0m\u001b[0m\n\u001b[0m",
      "\u001b[1;31mProgrammingError\u001b[0m: You have an error in your SQL syntax; check the manual that corresponds to your MariaDB server version for the right syntax to use near 'target_db.target_table FIELDS TERMINATED BY ',' ENCLOSED BY '\"' LINES TERMINATED' at line 1"
     ]
    }
   ],
   "source": [
    "cursor.execute(command)"
   ]
  },
  {
   "cell_type": "code",
   "execution_count": null,
   "metadata": {},
   "outputs": [],
   "source": []
  },
  {
   "cell_type": "code",
   "execution_count": null,
   "metadata": {},
   "outputs": [],
   "source": []
  },
  {
   "cell_type": "code",
   "execution_count": 77,
   "metadata": {},
   "outputs": [],
   "source": [
    "cursor.execute(\"\"\"DROP TABLE passengers\"\"\")"
   ]
  },
  {
   "cell_type": "code",
   "execution_count": null,
   "metadata": {},
   "outputs": [],
   "source": []
  },
  {
   "cell_type": "code",
   "execution_count": null,
   "metadata": {},
   "outputs": [],
   "source": []
  },
  {
   "cell_type": "code",
   "execution_count": null,
   "metadata": {},
   "outputs": [],
   "source": []
  },
  {
   "cell_type": "code",
   "execution_count": 6,
   "metadata": {},
   "outputs": [],
   "source": [
    "cursor.execute(\"\"\"CREATE TABLE passengers(\n",
    "id SERIAL PRIMARY KEY,\n",
    "name text,\n",
    "sex text,\n",
    "age float,\n",
    "sibsp integer,\n",
    "parch integer)\"\"\")"
   ]
  },
  {
   "cell_type": "code",
   "execution_count": 7,
   "metadata": {},
   "outputs": [],
   "source": [
    "cursor.execute(\"\"\"DROP TABLE passengers\"\"\")"
   ]
  },
  {
   "cell_type": "code",
   "execution_count": 4,
   "metadata": {},
   "outputs": [],
   "source": [
    "#creating tables \n",
    "cursor.execute(\"\"\"CREATE TABLE passengers(\n",
    "id SERIAL PRIMARY KEY,\n",
    "name text,\n",
    "sex text,\n",
    "age float,\n",
    "sibsp integer,\n",
    "parch integer)\"\"\")\n",
    "\n",
    "cursor.execute(\"\"\"CREATE TABLE survival(\n",
    "id SERIAL PRIMARY KEY,\n",
    "survived integer)\"\"\")\n",
    "\n",
    "cursor.execute(\"\"\"CREATE TABLE tripInfo(\n",
    "id SERIAL PRIMARY KEY,\n",
    "pclass integer,\n",
    "ticket text,\n",
    "fare float,\n",
    "cabin text,\n",
    "embarked text)\"\"\")\n",
    "\n",
    "connection.commit()"
   ]
  },
  {
   "cell_type": "code",
   "execution_count": 5,
   "metadata": {},
   "outputs": [
    {
     "data": {
      "text/html": [
       "<div>\n",
       "<style scoped>\n",
       "    .dataframe tbody tr th:only-of-type {\n",
       "        vertical-align: middle;\n",
       "    }\n",
       "\n",
       "    .dataframe tbody tr th {\n",
       "        vertical-align: top;\n",
       "    }\n",
       "\n",
       "    .dataframe thead th {\n",
       "        text-align: right;\n",
       "    }\n",
       "</style>\n",
       "<table border=\"1\" class=\"dataframe\">\n",
       "  <thead>\n",
       "    <tr style=\"text-align: right;\">\n",
       "      <th></th>\n",
       "      <th>table_name</th>\n",
       "      <th>column_name</th>\n",
       "      <th>data_type</th>\n",
       "      <th>table_schema</th>\n",
       "    </tr>\n",
       "  </thead>\n",
       "  <tbody>\n",
       "    <tr>\n",
       "      <th>0</th>\n",
       "      <td>passengers</td>\n",
       "      <td>name</td>\n",
       "      <td>text</td>\n",
       "      <td>public</td>\n",
       "    </tr>\n",
       "    <tr>\n",
       "      <th>1</th>\n",
       "      <td>passengers</td>\n",
       "      <td>sex</td>\n",
       "      <td>text</td>\n",
       "      <td>public</td>\n",
       "    </tr>\n",
       "    <tr>\n",
       "      <th>2</th>\n",
       "      <td>passengers</td>\n",
       "      <td>age</td>\n",
       "      <td>double precision</td>\n",
       "      <td>public</td>\n",
       "    </tr>\n",
       "    <tr>\n",
       "      <th>3</th>\n",
       "      <td>passengers</td>\n",
       "      <td>id</td>\n",
       "      <td>integer</td>\n",
       "      <td>public</td>\n",
       "    </tr>\n",
       "    <tr>\n",
       "      <th>4</th>\n",
       "      <td>passengers</td>\n",
       "      <td>parch</td>\n",
       "      <td>integer</td>\n",
       "      <td>public</td>\n",
       "    </tr>\n",
       "    <tr>\n",
       "      <th>5</th>\n",
       "      <td>passengers</td>\n",
       "      <td>sibsp</td>\n",
       "      <td>integer</td>\n",
       "      <td>public</td>\n",
       "    </tr>\n",
       "    <tr>\n",
       "      <th>6</th>\n",
       "      <td>survival</td>\n",
       "      <td>id</td>\n",
       "      <td>integer</td>\n",
       "      <td>public</td>\n",
       "    </tr>\n",
       "    <tr>\n",
       "      <th>7</th>\n",
       "      <td>survival</td>\n",
       "      <td>survived</td>\n",
       "      <td>integer</td>\n",
       "      <td>public</td>\n",
       "    </tr>\n",
       "    <tr>\n",
       "      <th>8</th>\n",
       "      <td>tripinfo</td>\n",
       "      <td>fare</td>\n",
       "      <td>double precision</td>\n",
       "      <td>public</td>\n",
       "    </tr>\n",
       "    <tr>\n",
       "      <th>9</th>\n",
       "      <td>tripinfo</td>\n",
       "      <td>pclass</td>\n",
       "      <td>integer</td>\n",
       "      <td>public</td>\n",
       "    </tr>\n",
       "    <tr>\n",
       "      <th>10</th>\n",
       "      <td>tripinfo</td>\n",
       "      <td>id</td>\n",
       "      <td>integer</td>\n",
       "      <td>public</td>\n",
       "    </tr>\n",
       "    <tr>\n",
       "      <th>11</th>\n",
       "      <td>tripinfo</td>\n",
       "      <td>cabin</td>\n",
       "      <td>text</td>\n",
       "      <td>public</td>\n",
       "    </tr>\n",
       "    <tr>\n",
       "      <th>12</th>\n",
       "      <td>tripinfo</td>\n",
       "      <td>ticket</td>\n",
       "      <td>text</td>\n",
       "      <td>public</td>\n",
       "    </tr>\n",
       "    <tr>\n",
       "      <th>13</th>\n",
       "      <td>tripinfo</td>\n",
       "      <td>embarked</td>\n",
       "      <td>text</td>\n",
       "      <td>public</td>\n",
       "    </tr>\n",
       "  </tbody>\n",
       "</table>\n",
       "</div>"
      ],
      "text/plain": [
       "    table_name column_name         data_type table_schema\n",
       "0   passengers        name              text       public\n",
       "1   passengers         sex              text       public\n",
       "2   passengers         age  double precision       public\n",
       "3   passengers          id           integer       public\n",
       "4   passengers       parch           integer       public\n",
       "5   passengers       sibsp           integer       public\n",
       "6     survival          id           integer       public\n",
       "7     survival    survived           integer       public\n",
       "8     tripinfo        fare  double precision       public\n",
       "9     tripinfo      pclass           integer       public\n",
       "10    tripinfo          id           integer       public\n",
       "11    tripinfo       cabin              text       public\n",
       "12    tripinfo      ticket              text       public\n",
       "13    tripinfo    embarked              text       public"
      ]
     },
     "execution_count": 5,
     "metadata": {},
     "output_type": "execute_result"
    }
   ],
   "source": [
    "#Quering Information Shema table\n",
    "sql = \"\"\"\n",
    "SELECT \"table_name\",\"column_name\", \"data_type\", \"table_schema\"\n",
    "FROM INFORMATION_SCHEMA.COLUMNS\n",
    "WHERE \"table_schema\" = 'public'\n",
    "ORDER BY table_name  \n",
    "\"\"\"\n",
    "pd.read_sql(sql, con=connection)"
   ]
  },
  {
   "cell_type": "code",
   "execution_count": 6,
   "metadata": {},
   "outputs": [],
   "source": [
    "# Copy data from csv files to tables:\n",
    "\n",
    "with open('passengers.csv', 'r') as row:\n",
    "    next(row)# Skip the header row.\n",
    "    cursor.copy_from(row, 'passengers', sep=',')\n",
    "    \n",
    "with open('survival.csv', 'r') as row:\n",
    "    next(row) \n",
    "    cursor.copy_from(row, 'survival', sep=',')\n",
    "\n",
    "with open('trip_info.csv', 'r') as row:\n",
    "    next(row)\n",
    "    cursor.copy_from(row, 'tripInfo', sep=',')\n",
    "    \n",
    "connection.commit()    "
   ]
  },
  {
   "cell_type": "code",
   "execution_count": 7,
   "metadata": {},
   "outputs": [],
   "source": [
    "# Create a new Role gastudent\n",
    "cursor.execute(\"\"\"CREATE ROLE gastudent WITH LOGIN PASSWORD 'gastudent'\"\"\")\n",
    "#Grant different permissions for a new role\n",
    "cursor.execute(\"\"\"GRANT CONNECT ON DATABASE titanic TO gastudent\"\"\")\n",
    "cursor.execute(\"\"\"GRANT SELECT, UPDATE, INSERT ON passengers TO gastudent\"\"\")\n",
    "cursor.execute(\"\"\"GRANT SELECT, UPDATE, INSERT ON survival TO gastudent\"\"\")\n",
    "cursor.execute(\"\"\"GRANT SELECT, UPDATE, INSERT ON tripInfo TO gastudent\"\"\")\n",
    "\n",
    "connection.commit()"
   ]
  },
  {
   "cell_type": "code",
   "execution_count": null,
   "metadata": {},
   "outputs": [],
   "source": [
    "# simple query to interact with a remote DB.\n",
    "\n",
    "sql = \"\"\"\n",
    "SELECT pclass, AVG(survived)\n",
    "FROM (SELECT t.pclass, s.survived\n",
    "FROM tripInfo t\n",
    "INNER JOIN survival s ON t.id = s.id\n",
    ") AS x\n",
    "GROUP BY pclass\n",
    "\"\"\"\n",
    "\n",
    "pd.read_sql(sql, con=connection)"
   ]
  }
 ],
 "metadata": {
  "kernelspec": {
   "display_name": "Python 3",
   "language": "python",
   "name": "python3"
  },
  "language_info": {
   "codemirror_mode": {
    "name": "ipython",
    "version": 3
   },
   "file_extension": ".py",
   "mimetype": "text/x-python",
   "name": "python",
   "nbconvert_exporter": "python",
   "pygments_lexer": "ipython3",
   "version": "3.7.3"
  }
 },
 "nbformat": 4,
 "nbformat_minor": 2
}
